{
 "metadata": {
  "kernelspec": {
   "display_name": "Streamlit Notebook",
   "name": "streamlit"
  }
 },
 "nbformat_minor": 5,
 "nbformat": 4,
 "cells": [
  {
   "cell_type": "markdown",
   "id": "20ca82b1-359a-48f5-82e9-eda8894dad41",
   "metadata": {
    "name": "cell1",
    "collapsed": false
   },
   "source": "# Notebookの中でStreamlitを使う方\n\nNotebookの中で[Streamlit](https://docs.streamlit.io/)を使う事が可能です。\n\n**:bulb: 注意点:**\n> Notebookの中でStreamlitのコードを書き、実行するのは可能です。もう作成された別の場所であるStreamlitのアプリを呼ぶことが出来ないです。\n>\n> もしもう作成された別の場所であるStreamlitのアプリをNotebookの中で使いたいなら、そのStreamlitアプリのコードをコピーし、Notebookにpasteする必要があります。\n\n\nStreamlitを使う為に、Streamlitと他の必要なライブラリを以下のように`import`する必要があります。\n\n```python\nimport streamlit as st\n```\n\n"
  },
  {
   "cell_type": "code",
   "id": "220ab43e-ff40-44e2-b862-5b15930b38c8",
   "metadata": {
    "language": "python",
    "name": "cell2",
    "collapsed": false
   },
   "outputs": [],
   "source": "import streamlit as st\nimport pandas as pd",
   "execution_count": null
  },
  {
   "cell_type": "code",
   "id": "6b027648-fe55-4d34-b1b3-0180039d2221",
   "metadata": {
    "language": "python",
    "name": "cell3",
    "collapsed": false
   },
   "outputs": [],
   "source": "st.header('Streamlit is working!')\nslider = st.slider(label='My Slider', min_value=0, max_value=10)",
   "execution_count": null
  },
  {
   "cell_type": "markdown",
   "id": "1cd61aff-8789-40e6-8883-0b364cb5bad1",
   "metadata": {
    "name": "cell4",
    "collapsed": false
   },
   "source": "## Notebookではpythonセルが他のセルのデータをアクセ出来ます。\n\n他のセルのデータをアクセ出来為に、そのセルのセル名が必要です。\nSnowflakeが自動的に`cell1`、`cell2`ようなセル名を生成します。\\\n`cell#`形も、`cells.cell#`形も使えます。\n\n```python\nprint(cell1)\nprint(cells.cell1)\n```"
  },
  {
   "cell_type": "code",
   "id": "f658852d-9604-46e2-9789-5de1656643f3",
   "metadata": {
    "language": "sql",
    "name": "cell5",
    "collapsed": false
   },
   "outputs": [],
   "source": "-- データの準備\n\ncreate or replace table dummy_sales_table \n(ID INTEGER, Region Varchar, Sales INTEGER);",
   "execution_count": null
  },
  {
   "cell_type": "code",
   "id": "47703e8b-65c8-4573-87f8-9fd401f5a53d",
   "metadata": {
    "language": "sql",
    "name": "cell6",
    "collapsed": false
   },
   "outputs": [],
   "source": "insert into dummy_sales_table\nvalues (1, 'China', 100),\n (2, 'Japan', 70), \n (3, 'US', 120),\n (4, 'France', 30),\n (5, 'Germany', 90);",
   "execution_count": null
  },
  {
   "cell_type": "code",
   "id": "5eeb8286-b183-43c7-9e97-c4b1ba1159bf",
   "metadata": {
    "language": "sql",
    "name": "cell7",
    "collapsed": false
   },
   "outputs": [],
   "source": "select * \nfrom dummy_sales_table;",
   "execution_count": null
  },
  {
   "cell_type": "code",
   "id": "44c90bd2-f22e-4677-a13c-d710b9ae2f1a",
   "metadata": {
    "language": "python",
    "name": "cell15",
    "collapsed": false
   },
   "outputs": [],
   "source": "print(cell7)",
   "execution_count": null
  },
  {
   "cell_type": "code",
   "id": "6a8de34d-abfc-475a-af47-002b5ed6b7af",
   "metadata": {
    "language": "python",
    "name": "cell8",
    "collapsed": false,
    "codeCollapsed": true
   },
   "outputs": [],
   "source": "# cell7の結果を Pandas dataframeに変える\nmy_df = cell7.to_pandas()\n\n# Chart the data\nst.subheader(\"Sales in 3 key countries\")\nst.bar_chart(data=my_df, x='REGION', y='SALES')",
   "execution_count": null
  },
  {
   "cell_type": "markdown",
   "id": "5e6aa393-1911-4e43-b6eb-cac7ebb65905",
   "metadata": {
    "name": "cell9",
    "collapsed": false
   },
   "source": "## Python セルのデータをSQLセルで使える\n\n Python セルのデータをSQLセルで使う為に、`variable`名をSQLセルで `{{ variable名 }}`として書いてください。\n\n "
  },
  {
   "cell_type": "code",
   "id": "b63c399e-258c-47cf-a490-146cbc6a91fb",
   "metadata": {
    "language": "python",
    "name": "cell10",
    "collapsed": false
   },
   "outputs": [],
   "source": "just_num = 12",
   "execution_count": null
  },
  {
   "cell_type": "code",
   "id": "d5b99538-81f1-44ef-aaec-462b9a0ad65c",
   "metadata": {
    "language": "sql",
    "name": "cell11",
    "collapsed": false
   },
   "outputs": [],
   "source": "select {{ just_num }} as number_referenced_from_python_cell;",
   "execution_count": null
  },
  {
   "cell_type": "markdown",
   "id": "9b46d402-9d5c-4910-b204-75e49e77bc3d",
   "metadata": {
    "name": "cell12",
    "collapsed": false
   },
   "source": "### StreamlitセルのデータをSQLセルで使う方法\n\nStreamlitはPythonライブラリので、Streamlitセルのデータを上にように、`{{ variable名 }}`、形を使って使います。\\\nStreamlitはインテラクティブなので、Streamlitのデータの価値が変わったら、Streamlitのデータを使っているSQLセルが自動的に再実行されります。"
  },
  {
   "cell_type": "code",
   "id": "39563942-5da2-4e09-b2b0-f6f6f471ed4e",
   "metadata": {
    "language": "python",
    "name": "cell13",
    "collapsed": false
   },
   "outputs": [],
   "source": "table_name = st.selectbox(label='見たい例名を選択してください', \n                  options=['dummy_sales_table', 'some_other_table'])\n\nrow_count = st.number_input(label='見たい行数を入力してください', \n                            value=1, \n                            min_value=1, \n                            max_value=100)\n",
   "execution_count": null
  },
  {
   "cell_type": "code",
   "id": "60c51c95-fef1-4e1f-87d8-0a50c186fded",
   "metadata": {
    "language": "sql",
    "name": "cell14",
    "collapsed": false
   },
   "outputs": [],
   "source": "select * \nfrom {{ table_name }}\nlimit {{ row_count }};\n",
   "execution_count": null
  }
 ]
}